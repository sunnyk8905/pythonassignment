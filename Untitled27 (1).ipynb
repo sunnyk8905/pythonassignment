{
 "cells": [
  {
   "cell_type": "code",
   "execution_count": null,
   "id": "c5eea73f-e532-42b8-b021-d4624f85d8ad",
   "metadata": {},
   "outputs": [],
   "source": [
    "Q1), Create a vehicle class with an init method having instance variables as name_of_vehicle, max_speed\n",
    "and average_of_vehicle. "
   ]
  },
  {
   "cell_type": "code",
   "execution_count": 1,
   "id": "6c29edd2-17e6-4c3c-98b9-94c3812ba960",
   "metadata": {},
   "outputs": [],
   "source": [
    "class Vehicle:\n",
    "    def __init__(self, name_of_vehicle, max_speed, average_of_vehicle):\n",
    "        self.name_of_vehicle = name_of_vehicle\n",
    "        self.max_speed = max_speed\n",
    "        self.average_of_vehicle = average_of_vehicle\n"
   ]
  },
  {
   "cell_type": "code",
   "execution_count": 2,
   "id": "03810dd3-7c5d-4ba2-93ca-f79271b23c03",
   "metadata": {},
   "outputs": [],
   "source": [
    "car = Vehicle(\"Toyota Camry\", 200, 30)\n"
   ]
  },
  {
   "cell_type": "code",
   "execution_count": null,
   "id": "785af217-f35f-4dac-b96a-531736e30019",
   "metadata": {},
   "outputs": [],
   "source": [
    "Q2).  Create a child class car from the vehicle class created in Que 1, which will inherit the vehicle class.\n",
    "Create a method named seating_capacity which takes capacity as an argument and returns the name of\n",
    "the vehicle and its seating capacity."
   ]
  },
  {
   "cell_type": "code",
   "execution_count": 3,
   "id": "871de74a-e1b4-4b45-b47d-cfef75fb4fb9",
   "metadata": {},
   "outputs": [],
   "source": [
    "class Car(Vehicle):\n",
    "    def seating_capacity(self, capacity):\n",
    "        return f\"The {self.name_of_vehicle} has a seating capacity of {capacity} people.\"\n"
   ]
  },
  {
   "cell_type": "code",
   "execution_count": 4,
   "id": "a0a32b13-3233-4a20-b64d-5b78bf6aada6",
   "metadata": {},
   "outputs": [
    {
     "name": "stdout",
     "output_type": "stream",
     "text": [
      "The Toyota Camry has a seating capacity of 5 people.\n"
     ]
    }
   ],
   "source": [
    "car = Car(\"Toyota Camry\", 200, 30)\n",
    "print(car.seating_capacity(5))\n"
   ]
  },
  {
   "cell_type": "code",
   "execution_count": null,
   "id": "446076d5-cbbc-4634-bafa-8f9fa5a04d75",
   "metadata": {},
   "outputs": [],
   "source": [
    "Q3). What is multiple inheritance? Write a python code to demonstrate multiple inheritance."
   ]
  },
  {
   "cell_type": "code",
   "execution_count": null,
   "id": "b47bad68-8738-4518-9cf4-1d1312dc746b",
   "metadata": {},
   "outputs": [],
   "source": [
    "when a derived class inherits features from more than one base class it is called multiple inheritance."
   ]
  },
  {
   "cell_type": "code",
   "execution_count": 5,
   "id": "79530087-b7c1-450b-a7c1-69dbd68fb0a8",
   "metadata": {},
   "outputs": [
    {
     "name": "stdout",
     "output_type": "stream",
     "text": [
      "Sparrow is eating.\n",
      "Sparrow is sleeping.\n",
      "Sparrow is flying.\n"
     ]
    }
   ],
   "source": [
    "class Animal:\n",
    "    def __init__(self, name):\n",
    "        self.name = name\n",
    "\n",
    "    def eat(self):\n",
    "        print(f\"{self.name} is eating.\")\n",
    "\n",
    "    def sleep(self):\n",
    "        print(f\"{self.name} is sleeping.\")\n",
    "\n",
    "\n",
    "class Flyable:\n",
    "    def fly(self):\n",
    "        print(f\"{self.name} is flying.\")\n",
    "\n",
    "\n",
    "class Bird(Animal, Flyable):\n",
    "    def __init__(self, name):\n",
    "        super().__init__(name)\n",
    "\n",
    "\n",
    "bird = Bird(\"Sparrow\")\n",
    "bird.eat()\n",
    "bird.sleep()\n",
    "bird.fly()\n"
   ]
  },
  {
   "cell_type": "code",
   "execution_count": null,
   "id": "2bcd124b-baef-49ca-b3f5-396cf66f3cc2",
   "metadata": {},
   "outputs": [],
   "source": [
    "Q4) What are getter and setter in python? Create a class and create a getter and a setter method in this\n",
    "class."
   ]
  },
  {
   "cell_type": "code",
   "execution_count": null,
   "id": "7f97e451-806e-4781-9777-bd96209beecb",
   "metadata": {},
   "outputs": [],
   "source": [
    "getters and setters are methods used to access and modify the values of class attributes, providing controlled access to the internal state of an object. They allow for encapsulation and abstraction, enabling data validation and maintaining the integrity of the object's state."
   ]
  },
  {
   "cell_type": "code",
   "execution_count": 6,
   "id": "721efbbf-a61d-4ebf-a18c-cd9993e0ccbb",
   "metadata": {},
   "outputs": [
    {
     "name": "stdout",
     "output_type": "stream",
     "text": [
      "John\n",
      "Mike\n",
      "25\n",
      "30\n",
      "Age cannot be negative.\n"
     ]
    }
   ],
   "source": [
    "class Person:\n",
    "    def __init__(self, name, age):\n",
    "        self._name = name\n",
    "        self._age = age\n",
    "\n",
    "    def get_name(self):\n",
    "        return self._name\n",
    "\n",
    "    def set_name(self, name):\n",
    "        self._name = name\n",
    "\n",
    "    def get_age(self):\n",
    "        return self._age\n",
    "\n",
    "    def set_age(self, age):\n",
    "        if age >= 0:\n",
    "            self._age = age\n",
    "        else:\n",
    "            print(\"Age cannot be negative.\")\n",
    "\n",
    "# Create an instance of the Person class\n",
    "person = Person(\"John\", 25)\n",
    "\n",
    "# Use the getter method to retrieve the name\n",
    "print(person.get_name())  # Output: John\n",
    "\n",
    "# Use the setter method to update the name\n",
    "person.set_name(\"Mike\")\n",
    "\n",
    "# Use the getter method to retrieve the updated name\n",
    "print(person.get_name())  # Output: Mike\n",
    "\n",
    "# Use the getter method to retrieve the age\n",
    "print(person.get_age())  # Output: 25\n",
    "\n",
    "# Use the setter method to update the age\n",
    "person.set_age(30)\n",
    "\n",
    "# Use the getter method to retrieve the updated age\n",
    "print(person.get_age())  # Output: 30\n",
    "\n",
    "# Try to set a negative age\n",
    "person.set_age(-5)  # Output: Age cannot be negative.\n"
   ]
  },
  {
   "cell_type": "code",
   "execution_count": null,
   "id": "d0dd16bd-a754-449b-8703-d656465aba1f",
   "metadata": {},
   "outputs": [],
   "source": [
    "Q5.What is method overriding in python? Write a python code to demonstrate method overriding."
   ]
  },
  {
   "cell_type": "code",
   "execution_count": null,
   "id": "d0d262fb-9731-4b21-b822-d9b5d0ae2f62",
   "metadata": {},
   "outputs": [],
   "source": [
    "\n",
    "Method overriding is a concept in object-oriented programming where a subclass provides its own implementation of a method that is already defined in its parent class. When a method is overridden, the subclass method takes precedence over the parent class method with the same name."
   ]
  },
  {
   "cell_type": "code",
   "execution_count": 7,
   "id": "90609f70-93a2-4a04-8b44-c8848f70e4a7",
   "metadata": {},
   "outputs": [
    {
     "name": "stdout",
     "output_type": "stream",
     "text": [
      "Animal makes a generic sound.\n",
      "Dog barks.\n",
      "Cat meows.\n"
     ]
    }
   ],
   "source": [
    "class Animal:\n",
    "    def make_sound(self):\n",
    "        print(\"Animal makes a generic sound.\")\n",
    "\n",
    "\n",
    "class Dog(Animal):\n",
    "    def make_sound(self):\n",
    "        print(\"Dog barks.\")\n",
    "\n",
    "\n",
    "class Cat(Animal):\n",
    "    def make_sound(self):\n",
    "        print(\"Cat meows.\")\n",
    "\n",
    "\n",
    "animal = Animal()\n",
    "animal.make_sound()  # Output: Animal makes a generic sound.\n",
    "\n",
    "dog = Dog()\n",
    "dog.make_sound()  # Output: Dog barks.\n",
    "\n",
    "cat = Cat()\n",
    "cat.make_sound()  # Output: Cat meows.\n"
   ]
  },
  {
   "cell_type": "code",
   "execution_count": null,
   "id": "dc4e68ad-19f8-4086-96f8-50bd3dd44b99",
   "metadata": {},
   "outputs": [],
   "source": []
  }
 ],
 "metadata": {
  "kernelspec": {
   "display_name": "Python 3 (ipykernel)",
   "language": "python",
   "name": "python3"
  },
  "language_info": {
   "codemirror_mode": {
    "name": "ipython",
    "version": 3
   },
   "file_extension": ".py",
   "mimetype": "text/x-python",
   "name": "python",
   "nbconvert_exporter": "python",
   "pygments_lexer": "ipython3",
   "version": "3.10.8"
  }
 },
 "nbformat": 4,
 "nbformat_minor": 5
}
